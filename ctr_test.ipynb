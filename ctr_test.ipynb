{
 "cells": [
  {
   "cell_type": "code",
   "execution_count": 1,
   "id": "c2466c9f-81a3-41ee-989c-2314dfe6f5b2",
   "metadata": {},
   "outputs": [],
   "source": [
    "import pandas as pd\n",
    "import pandahouse as ph\n",
    "import seaborn as sns\n",
    "from scipy import stats\n",
    "import numpy as np\n",
    "import matplotlib.pyplot as plt\n",
    "import seaborn as sns"
   ]
  },
  {
   "cell_type": "code",
   "execution_count": 2,
   "id": "85daa844-378d-4dc7-b22f-70f2dbf657f6",
   "metadata": {},
   "outputs": [],
   "source": [
    "connection = {'host': 'https://clickhouse.lab.karpov.courses',\n",
    "'database':'simulator_20241020',\n",
    "'user':'student',\n",
    "'password':'dpo_python_2020'\n",
    "}#"
   ]
  },
  {
   "cell_type": "code",
   "execution_count": 3,
   "id": "f27a6071-17c0-4bfc-a039-11480d32a081",
   "metadata": {},
   "outputs": [],
   "source": [
    "q = \"\"\"\n",
    "SELECT exp_group, \n",
    "    user_id,\n",
    "    sum(action = 'like') as likes,\n",
    "    sum(action = 'view') as views,\n",
    "    likes/views as ctr\n",
    "FROM {db}.feed_actions \n",
    "WHERE toDate(time) between '2024-09-27' and '2024-10-03'\n",
    "    and exp_group in (2,1)\n",
    "GROUP BY exp_group, user_id\n",
    "\"\"\""
   ]
  },
  {
   "cell_type": "code",
   "execution_count": 4,
   "id": "5319cea8-321a-40c4-aadb-99c5ca1abd9c",
   "metadata": {},
   "outputs": [],
   "source": [
    "df = ph.read_clickhouse(q, connection=connection)"
   ]
  },
  {
   "cell_type": "code",
   "execution_count": 5,
   "id": "034c72f6-a204-4ca1-aacf-7471c0e1dbf1",
   "metadata": {},
   "outputs": [
    {
     "data": {
      "text/html": [
       "<div>\n",
       "<style scoped>\n",
       "    .dataframe tbody tr th:only-of-type {\n",
       "        vertical-align: middle;\n",
       "    }\n",
       "\n",
       "    .dataframe tbody tr th {\n",
       "        vertical-align: top;\n",
       "    }\n",
       "\n",
       "    .dataframe thead th {\n",
       "        text-align: right;\n",
       "    }\n",
       "</style>\n",
       "<table border=\"1\" class=\"dataframe\">\n",
       "  <thead>\n",
       "    <tr style=\"text-align: right;\">\n",
       "      <th></th>\n",
       "      <th>exp_group</th>\n",
       "      <th>user_id</th>\n",
       "      <th>likes</th>\n",
       "      <th>views</th>\n",
       "      <th>ctr</th>\n",
       "    </tr>\n",
       "  </thead>\n",
       "  <tbody>\n",
       "    <tr>\n",
       "      <th>0</th>\n",
       "      <td>1</td>\n",
       "      <td>109963</td>\n",
       "      <td>3</td>\n",
       "      <td>15</td>\n",
       "      <td>0.200000</td>\n",
       "    </tr>\n",
       "    <tr>\n",
       "      <th>1</th>\n",
       "      <td>1</td>\n",
       "      <td>26117</td>\n",
       "      <td>32</td>\n",
       "      <td>141</td>\n",
       "      <td>0.226950</td>\n",
       "    </tr>\n",
       "    <tr>\n",
       "      <th>2</th>\n",
       "      <td>1</td>\n",
       "      <td>138232</td>\n",
       "      <td>18</td>\n",
       "      <td>73</td>\n",
       "      <td>0.246575</td>\n",
       "    </tr>\n",
       "    <tr>\n",
       "      <th>3</th>\n",
       "      <td>1</td>\n",
       "      <td>26295</td>\n",
       "      <td>39</td>\n",
       "      <td>141</td>\n",
       "      <td>0.276596</td>\n",
       "    </tr>\n",
       "    <tr>\n",
       "      <th>4</th>\n",
       "      <td>1</td>\n",
       "      <td>18392</td>\n",
       "      <td>7</td>\n",
       "      <td>32</td>\n",
       "      <td>0.218750</td>\n",
       "    </tr>\n",
       "  </tbody>\n",
       "</table>\n",
       "</div>"
      ],
      "text/plain": [
       "   exp_group  user_id  likes  views       ctr\n",
       "0          1   109963      3     15  0.200000\n",
       "1          1    26117     32    141  0.226950\n",
       "2          1   138232     18     73  0.246575\n",
       "3          1    26295     39    141  0.276596\n",
       "4          1    18392      7     32  0.218750"
      ]
     },
     "execution_count": 5,
     "metadata": {},
     "output_type": "execute_result"
    }
   ],
   "source": [
    "df.head()"
   ]
  },
  {
   "cell_type": "markdown",
   "id": "e90a1274-986e-44e7-b279-0ed0dbdcb997",
   "metadata": {},
   "source": [
    "Проведем небольшой EDA анализ"
   ]
  },
  {
   "cell_type": "code",
   "execution_count": 6,
   "id": "ed3e9d1f-3c01-4de5-a344-16af9cfa8f66",
   "metadata": {},
   "outputs": [
    {
     "name": "stdout",
     "output_type": "stream",
     "text": [
      "<class 'pandas.core.frame.DataFrame'>\n",
      "RangeIndex: 19897 entries, 0 to 19896\n",
      "Data columns (total 5 columns):\n",
      " #   Column     Non-Null Count  Dtype  \n",
      "---  ------     --------------  -----  \n",
      " 0   exp_group  19897 non-null  int8   \n",
      " 1   user_id    19897 non-null  uint32 \n",
      " 2   likes      19897 non-null  uint64 \n",
      " 3   views      19897 non-null  uint64 \n",
      " 4   ctr        19897 non-null  float64\n",
      "dtypes: float64(1), int8(1), uint32(1), uint64(2)\n",
      "memory usage: 563.6 KB\n"
     ]
    }
   ],
   "source": [
    "df.info() "
   ]
  },
  {
   "cell_type": "code",
   "execution_count": 7,
   "id": "593c3a90-a341-4692-898c-956dbf9de947",
   "metadata": {},
   "outputs": [
    {
     "data": {
      "text/html": [
       "<div>\n",
       "<style scoped>\n",
       "    .dataframe tbody tr th:only-of-type {\n",
       "        vertical-align: middle;\n",
       "    }\n",
       "\n",
       "    .dataframe tbody tr th {\n",
       "        vertical-align: top;\n",
       "    }\n",
       "\n",
       "    .dataframe thead th {\n",
       "        text-align: right;\n",
       "    }\n",
       "</style>\n",
       "<table border=\"1\" class=\"dataframe\">\n",
       "  <thead>\n",
       "    <tr style=\"text-align: right;\">\n",
       "      <th></th>\n",
       "      <th>exp_group</th>\n",
       "      <th>user_id</th>\n",
       "      <th>likes</th>\n",
       "      <th>views</th>\n",
       "      <th>ctr</th>\n",
       "    </tr>\n",
       "  </thead>\n",
       "  <tbody>\n",
       "    <tr>\n",
       "      <th>count</th>\n",
       "      <td>19897.000000</td>\n",
       "      <td>19897.000000</td>\n",
       "      <td>19897.000000</td>\n",
       "      <td>19897.000000</td>\n",
       "      <td>19897.000000</td>\n",
       "    </tr>\n",
       "    <tr>\n",
       "      <th>mean</th>\n",
       "      <td>1.496406</td>\n",
       "      <td>75513.142584</td>\n",
       "      <td>13.690255</td>\n",
       "      <td>66.793838</td>\n",
       "      <td>0.216440</td>\n",
       "    </tr>\n",
       "    <tr>\n",
       "      <th>std</th>\n",
       "      <td>0.500000</td>\n",
       "      <td>53254.926058</td>\n",
       "      <td>10.879688</td>\n",
       "      <td>45.364754</td>\n",
       "      <td>0.116613</td>\n",
       "    </tr>\n",
       "    <tr>\n",
       "      <th>min</th>\n",
       "      <td>1.000000</td>\n",
       "      <td>206.000000</td>\n",
       "      <td>0.000000</td>\n",
       "      <td>1.000000</td>\n",
       "      <td>0.000000</td>\n",
       "    </tr>\n",
       "    <tr>\n",
       "      <th>25%</th>\n",
       "      <td>1.000000</td>\n",
       "      <td>21945.000000</td>\n",
       "      <td>6.000000</td>\n",
       "      <td>32.000000</td>\n",
       "      <td>0.119403</td>\n",
       "    </tr>\n",
       "    <tr>\n",
       "      <th>50%</th>\n",
       "      <td>1.000000</td>\n",
       "      <td>109319.000000</td>\n",
       "      <td>11.000000</td>\n",
       "      <td>57.000000</td>\n",
       "      <td>0.200000</td>\n",
       "    </tr>\n",
       "    <tr>\n",
       "      <th>75%</th>\n",
       "      <td>2.000000</td>\n",
       "      <td>126146.000000</td>\n",
       "      <td>19.000000</td>\n",
       "      <td>91.000000</td>\n",
       "      <td>0.291667</td>\n",
       "    </tr>\n",
       "    <tr>\n",
       "      <th>max</th>\n",
       "      <td>2.000000</td>\n",
       "      <td>140740.000000</td>\n",
       "      <td>93.000000</td>\n",
       "      <td>341.000000</td>\n",
       "      <td>0.900000</td>\n",
       "    </tr>\n",
       "  </tbody>\n",
       "</table>\n",
       "</div>"
      ],
      "text/plain": [
       "          exp_group        user_id         likes         views           ctr\n",
       "count  19897.000000   19897.000000  19897.000000  19897.000000  19897.000000\n",
       "mean       1.496406   75513.142584     13.690255     66.793838      0.216440\n",
       "std        0.500000   53254.926058     10.879688     45.364754      0.116613\n",
       "min        1.000000     206.000000      0.000000      1.000000      0.000000\n",
       "25%        1.000000   21945.000000      6.000000     32.000000      0.119403\n",
       "50%        1.000000  109319.000000     11.000000     57.000000      0.200000\n",
       "75%        2.000000  126146.000000     19.000000     91.000000      0.291667\n",
       "max        2.000000  140740.000000     93.000000    341.000000      0.900000"
      ]
     },
     "execution_count": 7,
     "metadata": {},
     "output_type": "execute_result"
    }
   ],
   "source": [
    "df.describe() "
   ]
  },
  {
   "cell_type": "code",
   "execution_count": 8,
   "id": "3e320c5a-fdf4-47d9-b5da-4339a0f30ab5",
   "metadata": {},
   "outputs": [
    {
     "data": {
      "text/plain": [
       "exp_group\n",
       "1    10020\n",
       "2     9877\n",
       "Name: user_id, dtype: int64"
      ]
     },
     "execution_count": 8,
     "metadata": {},
     "output_type": "execute_result"
    }
   ],
   "source": [
    "df.groupby('exp_group')['user_id'].nunique() "
   ]
  },
  {
   "cell_type": "code",
   "execution_count": 9,
   "id": "11c0c528-818e-432c-966a-1505e6cf1a99",
   "metadata": {},
   "outputs": [
    {
     "data": {
      "image/png": "[encoded data removed]",
      "text/plain": [
       "<Figure size 432x288 with 1 Axes>"
      ]
     },
     "metadata": {
      "needs_background": "light"
     },
     "output_type": "display_data"
    }
   ],
   "source": [
    "groups = sns.histplot(data = df,\n",
    "                        x='ctr',\n",
    "                        hue='exp_group',\n",
    "                        palette = ['r', 'b'],\n",
    "                        alpha=0.5,\n",
    "                        kde=False)"
   ]
  },
  {
   "cell_type": "markdown",
   "id": "3ed2fb84-6ab9-425b-9b70-ba33a1ec0678",
   "metadata": {},
   "source": [
    "Очевидно что наши данные распределены не нормально, чтобы удостовериться проведем тест Шапиро на нормальность распределения данных, а также проведем тест Левена для определения равенства дисперсии"
   ]
  },
  {
   "cell_type": "code",
   "execution_count": 10,
   "id": "2a936876-1f0d-488f-8ca1-76acb61a1d0a",
   "metadata": {},
   "outputs": [],
   "source": [
    "group_A = df[df['exp_group'] == 1]['ctr']\n",
    "group_B = df[df['exp_group'] == 2]['ctr']"
   ]
  },
  {
   "cell_type": "markdown",
   "id": "adc517d9-1c18-4578-9854-74cd14123b3f",
   "metadata": {},
   "source": [
    "**Тест Шапиро-Уилка**"
   ]
  },
  {
   "cell_type": "code",
   "execution_count": 11,
   "id": "4a762eba-a01d-4785-a027-d77f9fcd68c1",
   "metadata": {},
   "outputs": [
    {
     "name": "stderr",
     "output_type": "stream",
     "text": [
      "/opt/conda/lib/python3.8/site-packages/scipy/stats/_morestats.py:1816: UserWarning: p-value may not be accurate for N > 5000.\n",
      "  warnings.warn(\"p-value may not be accurate for N > 5000.\")\n"
     ]
    },
    {
     "data": {
      "text/plain": [
       "ShapiroResult(statistic=0.8931446075439453, pvalue=0.0)"
      ]
     },
     "execution_count": 11,
     "metadata": {},
     "output_type": "execute_result"
    }
   ],
   "source": [
    "# Тест Шапиро-Уилка для группы 1\n",
    "stats.shapiro(group_A)\n",
    "\n",
    "# Тест Шапиро-Уилка для группы 2\n",
    "stats.shapiro(group_B)"
   ]
  },
  {
   "cell_type": "markdown",
   "id": "7430477a-4ccc-4dff-ae3c-a40fa5209bcd",
   "metadata": {},
   "source": [
    "Результаты теста Шапиро-Уилка показывают, что для обеих групп значение p-value равно 0. Это говорит о том, что данные в обеих группах не следуют нормальному распределению"
   ]
  },
  {
   "cell_type": "markdown",
   "id": "275b0aad-a2c3-4a22-8c40-368f301b9c73",
   "metadata": {},
   "source": [
    "**Тест Левена**"
   ]
  },
  {
   "cell_type": "code",
   "execution_count": 12,
   "id": "856bd5eb-3141-40ef-914d-573112f0da0e",
   "metadata": {},
   "outputs": [
    {
     "data": {
      "text/plain": [
       "LeveneResult(statistic=2757.7940649593234, pvalue=0.0)"
      ]
     },
     "execution_count": 12,
     "metadata": {},
     "output_type": "execute_result"
    }
   ],
   "source": [
    "# Тест Левена для проверки равенства дисперсий\n",
    "stats.levene(group_A, group_B)"
   ]
  },
  {
   "cell_type": "markdown",
   "id": "59cf8a9b-3eb7-48de-91c1-685df9075719",
   "metadata": {},
   "source": [
    "В данном случае значение pvalue равно 0.0, что указывает на то, что нулевая гипотеза о равенстве дисперсий с высокой вероятностью отвергается"
   ]
  },
  {
   "cell_type": "markdown",
   "id": "526e6ded-f804-420e-bbf0-765bae8f6efe",
   "metadata": {},
   "source": [
    "**T-тест Уэлча**"
   ]
  },
  {
   "cell_type": "markdown",
   "id": "afdcff68-20f7-4643-9086-d657d8fcf948",
   "metadata": {},
   "source": [
    "T-тест Уэлча является вариантом t-теста для двух выборок, который не предполагает равенства дисперсий в этих выборках, что делает его более устойчивым к различиям в дисперсиях и менее чувствительным к отклонениям от нормальности распределения. Кроме того, при очень больших выборках центральная предельная теорема вступает в силу, что означает, что распределение выборочного среднего будет приближаться к нормальному распределению, независимо от формы исходного распределения. Это делает t-тест Уэлча применимым и при ненормальных распределениях, если выборка действительно большая."
   ]
  },
  {
   "cell_type": "code",
   "execution_count": 13,
   "id": "7271a93e-3b77-4a4f-b14d-a5f52439db3b",
   "metadata": {},
   "outputs": [
    {
     "data": {
      "text/plain": [
       "Ttest_indResult(statistic=0.4051491913112757, pvalue=0.685373331140751)"
      ]
     },
     "execution_count": 13,
     "metadata": {},
     "output_type": "execute_result"
    }
   ],
   "source": [
    "stats.ttest_ind(group_A, group_B, equal_var=False)"
   ]
  },
  {
   "cell_type": "markdown",
   "id": "802d8783-30d6-470a-ae57-233345df0b82",
   "metadata": {},
   "source": [
    "Не отвергаем нулевую гипотезу. Средние значения выборок не различаются"
   ]
  },
  {
   "cell_type": "markdown",
   "id": "e26f7dd5-10b8-4cf4-8862-3deade7a74bf",
   "metadata": {},
   "source": [
    "**Тест Манна-Уитни**"
   ]
  },
  {
   "cell_type": "code",
   "execution_count": 14,
   "id": "a577a495-7bc2-4126-aa80-1c50f825c8ac",
   "metadata": {},
   "outputs": [
    {
     "data": {
      "text/plain": [
       "MannwhitneyuResult(statistic=55189913.0, pvalue=4.632205841806026e-45)"
      ]
     },
     "execution_count": 14,
     "metadata": {},
     "output_type": "execute_result"
    }
   ],
   "source": [
    "stats.mannwhitneyu(df[df.exp_group == 1].ctr, \n",
    "                   df[df.exp_group == 2].ctr,\n",
    "                   alternative = 'two-sided')"
   ]
  },
  {
   "cell_type": "markdown",
   "id": "34da9e24-2972-417e-b166-194dbd3b19ce",
   "metadata": {},
   "source": [
    "Тест Манна-Уитни увидел разницу между распределениями CTR в двух группах, следовательно отвергаем нулевую гипотезу. Выбороки различаются"
   ]
  },
  {
   "cell_type": "markdown",
   "id": "b9078e08-dfdc-4ab7-b581-f9a2cc921d0c",
   "metadata": {},
   "source": [
    "**T-тест на сглаженном CTR**"
   ]
  },
  {
   "cell_type": "code",
   "execution_count": 21,
   "id": "8015b3c1-376c-404d-986e-510bbc7c857c",
   "metadata": {},
   "outputs": [],
   "source": [
    "def get_smoothed_ctr(user_likes: int, \n",
    "                    user_views: int, \n",
    "                    global_ctr: float, \n",
    "                    alpha: float) -> float:\n",
    "\n",
    "    '''\n",
    "    Вычисляет сглаженный CTR (Click-Through Rate) на основе данных пользователя и глобального CTR.\n",
    "\n",
    "    Параметры:\n",
    "    -----------\n",
    "    user_likes : int\n",
    "        Количество лайков, поставленных пользователем.\n",
    "    user_views : int\n",
    "        Количество просмотров, совершенных пользователем.\n",
    "    global_ctr : float\n",
    "        Глобальный CTR, используемый для сглаживания.\n",
    "    alpha : int или float\n",
    "        Коэффициент сглаживания, который регулирует баланс между пользовательскими и глобальными данными.\n",
    "\n",
    "    Возвращает:\n",
    "    ----------\n",
    "    float\n",
    "        Сглаженное значение CTR, вычисленное на основе введенных параметров.\n",
    "    '''\n",
    "    \n",
    "    smoothed_ctr = (user_likes + alpha * global_ctr) / (user_views + alpha)\n",
    "    return smoothed_ctr"
   ]
  },
  {
   "cell_type": "code",
   "execution_count": 22,
   "id": "e171cf70-fbe6-4c21-a389-fb89ec186856",
   "metadata": {},
   "outputs": [],
   "source": [
    "global_ctr_1 = df[df.exp_group == 1].likes.sum()/df[df.exp_group == 1].views.sum()\n",
    "global_ctr_2 = df[df.exp_group == 2].likes.sum()/df[df.exp_group == 2].views.sum()"
   ]
  },
  {
   "cell_type": "code",
   "execution_count": 23,
   "id": "2f8581c8-79f1-421e-a8e6-fa58a61bb032",
   "metadata": {},
   "outputs": [],
   "source": [
    "control = df[df.exp_group == 1].copy()\n",
    "test = df[df.exp_group == 2].copy()"
   ]
  },
  {
   "cell_type": "code",
   "execution_count": 24,
   "id": "e17a6902-a6dc-4745-bdbd-01de39d6d8cb",
   "metadata": {},
   "outputs": [],
   "source": [
    "control['smoothed_ctr'] = df.apply(\n",
    "    lambda x: get_smoothed_ctr(x['likes'], x['views'], global_ctr_1, 5), axis=1)"
   ]
  },
  {
   "cell_type": "code",
   "execution_count": 25,
   "id": "ce449621-ca7e-4dbc-96d1-a52adb00f21e",
   "metadata": {},
   "outputs": [],
   "source": [
    "test['smoothed_ctr'] = df.apply(\n",
    "    lambda x: get_smoothed_ctr(x['likes'], x['views'], global_ctr_2, 5), axis=1)"
   ]
  },
  {
   "cell_type": "code",
   "execution_count": 26,
   "id": "8d5289f3-e633-4923-bbcf-9d8a00cd480d",
   "metadata": {},
   "outputs": [
    {
     "data": {
      "text/plain": [
       "Ttest_indResult(statistic=1.9460491517027683, pvalue=0.05166679015318526)"
      ]
     },
     "execution_count": 26,
     "metadata": {},
     "output_type": "execute_result"
    }
   ],
   "source": [
    "stats.ttest_ind(control.smoothed_ctr,\n",
    "                test.smoothed_ctr,\n",
    "                equal_var=False)"
   ]
  },
  {
   "cell_type": "markdown",
   "id": "e27d31da-f223-4e21-8b73-1ea3c4283b27",
   "metadata": {},
   "source": [
    "Т-тест на сглаженном CTR не показал статистически значимых различий между средними сглаженными CTR в двух группах. Хотя у нас все еще нет теоретической гарантии, что направленность сглаженного CTR совпадает с направленностью общего количества лайков."
   ]
  },
  {
   "cell_type": "markdown",
   "id": "cdb0c9e5-b532-450d-8191-2e92faae6b45",
   "metadata": {},
   "source": [
    "**Пуассоновский бутстреп**"
   ]
  },
  {
   "cell_type": "code",
   "execution_count": 27,
   "id": "56d5bde2-1bab-4ca3-a6d4-39338c40dc33",
   "metadata": {},
   "outputs": [],
   "source": [
    "def bootstrap(likes1: np.ndarray, \n",
    "              views1: np.ndarray, \n",
    "              likes2: np.ndarray, \n",
    "              views2: np.ndarray, \n",
    "              n_bootstrap: int = 2000) -> tuple:\n",
    "    '''\n",
    "    Выполняет бутстрап-процедуру для оценки доверительных интервалов для CTR двух групп.\n",
    "\n",
    "    Параметры:\n",
    "    -----------\n",
    "    likes1 : np.ndarray\n",
    "        Массив с количеством лайков для первой группы.\n",
    "    views1 : np.ndarray\n",
    "        Массив с количеством просмотров для первой группы.\n",
    "    likes2 : np.ndarray\n",
    "        Массив с количеством лайков для второй группы.\n",
    "    views2 : np.ndarray\n",
    "        Массив с количеством просмотров для второй группы.\n",
    "    n_bootstrap : int, optional (default = 2000)\n",
    "        Количество бутстрап-итераций для оценки.\n",
    "\n",
    "    Возвращает:\n",
    "    ----------\n",
    "    Tuple\n",
    "        Два массива, содержащих оцененные значения глобального CTR для первой и второй группы на основе бутстрапа.\n",
    "    '''\n",
    "\n",
    "    poisson_bootstraps1 = stats.poisson(1).rvs(\n",
    "        (n_bootstrap, len(likes1))).astype(np.int64)\n",
    "\n",
    "    poisson_bootstraps2 = stats.poisson(1).rvs(\n",
    "            (n_bootstrap, len(likes2))).astype(np.int64)\n",
    "    \n",
    "    globalCTR1 = (poisson_bootstraps1*likes1).sum(axis=1)/(poisson_bootstraps1*views1).sum(axis=1)\n",
    "    \n",
    "    globalCTR2 = (poisson_bootstraps2*likes2).sum(axis=1)/(poisson_bootstraps2*views2).sum(axis=1)\n",
    "\n",
    "    return globalCTR1, globalCTR2"
   ]
  },
  {
   "cell_type": "code",
   "execution_count": 28,
   "id": "79e584d4-9168-454f-9aa4-85a6b4174da2",
   "metadata": {},
   "outputs": [],
   "source": [
    "likes1 = df[df.exp_group == 1].likes.to_numpy()\n",
    "views1 = df[df.exp_group == 1].views.to_numpy()\n",
    "likes2 = df[df.exp_group == 2].likes.to_numpy()\n",
    "views2 = df[df.exp_group == 2].views.to_numpy()\n",
    "\n",
    "ctr1, ctr2 = bootstrap(likes1, views1, likes2, views2)"
   ]
  },
  {
   "cell_type": "code",
   "execution_count": 29,
   "id": "93a8bf85-ebda-480b-9582-ceb3a4912d8d",
   "metadata": {},
   "outputs": [
    {
     "data": {
      "text/plain": [
       "<Axes: ylabel='Count'>"
      ]
     },
     "execution_count": 29,
     "metadata": {},
     "output_type": "execute_result"
    },
    {
     "data": {
      "image/png": "[encoded data removed]",
      "text/plain": [
       "<Figure size 432x288 with 1 Axes>"
      ]
     },
     "metadata": {
      "needs_background": "light"
     },
     "output_type": "display_data"
    }
   ],
   "source": [
    "sns.histplot(ctr1)\n",
    "sns.histplot(ctr2)"
   ]
  },
  {
   "cell_type": "code",
   "execution_count": 30,
   "id": "5bc79d38-5807-411f-913a-a46e9f8f6869",
   "metadata": {},
   "outputs": [
    {
     "data": {
      "text/plain": [
       "<Axes: ylabel='Count'>"
      ]
     },
     "execution_count": 30,
     "metadata": {},
     "output_type": "execute_result"
    },
    {
     "data": {
      "image/png": "[encoded data removed]",
      "text/plain": [
       "<Figure size 432x288 with 1 Axes>"
      ]
     },
     "metadata": {
      "needs_background": "light"
     },
     "output_type": "display_data"
    }
   ],
   "source": [
    "sns.histplot(ctr2 - ctr1) "
   ]
  },
  {
   "cell_type": "markdown",
   "id": "21882770-fc40-4736-9536-ed752d54a463",
   "metadata": {},
   "source": [
    "Данный метод показал статистичеки значимую разницу между CTR двух групп. Гистограмма разности не пересекает 0, разница между группами отрицательная, значит, контрольная группа показала лучший результат по CTR, чем тестовая группа."
   ]
  },
  {
   "cell_type": "markdown",
   "id": "cae29472-ce7e-48ca-9ab9-7543106ec756",
   "metadata": {},
   "source": [
    "**T-тест поверх бакетного преобразования**"
   ]
  },
  {
   "cell_type": "code",
   "execution_count": 31,
   "id": "5103053e-ac6f-4a0f-a18b-047c352c24de",
   "metadata": {},
   "outputs": [
    {
     "data": {
      "text/html": [
       "<div>\n",
       "<style scoped>\n",
       "    .dataframe tbody tr th:only-of-type {\n",
       "        vertical-align: middle;\n",
       "    }\n",
       "\n",
       "    .dataframe tbody tr th {\n",
       "        vertical-align: top;\n",
       "    }\n",
       "\n",
       "    .dataframe thead th {\n",
       "        text-align: right;\n",
       "    }\n",
       "</style>\n",
       "<table border=\"1\" class=\"dataframe\">\n",
       "  <thead>\n",
       "    <tr style=\"text-align: right;\">\n",
       "      <th></th>\n",
       "      <th>exp_group</th>\n",
       "      <th>bucket</th>\n",
       "      <th>bucket_ctr</th>\n",
       "    </tr>\n",
       "  </thead>\n",
       "  <tbody>\n",
       "    <tr>\n",
       "      <th>0</th>\n",
       "      <td>1</td>\n",
       "      <td>0</td>\n",
       "      <td>0.200592</td>\n",
       "    </tr>\n",
       "    <tr>\n",
       "      <th>1</th>\n",
       "      <td>2</td>\n",
       "      <td>0</td>\n",
       "      <td>0.196510</td>\n",
       "    </tr>\n",
       "    <tr>\n",
       "      <th>2</th>\n",
       "      <td>1</td>\n",
       "      <td>1</td>\n",
       "      <td>0.208799</td>\n",
       "    </tr>\n",
       "    <tr>\n",
       "      <th>3</th>\n",
       "      <td>2</td>\n",
       "      <td>1</td>\n",
       "      <td>0.210375</td>\n",
       "    </tr>\n",
       "    <tr>\n",
       "      <th>4</th>\n",
       "      <td>1</td>\n",
       "      <td>2</td>\n",
       "      <td>0.204632</td>\n",
       "    </tr>\n",
       "  </tbody>\n",
       "</table>\n",
       "</div>"
      ],
      "text/plain": [
       "   exp_group  bucket  bucket_ctr\n",
       "0          1       0    0.200592\n",
       "1          2       0    0.196510\n",
       "2          1       1    0.208799\n",
       "3          2       1    0.210375\n",
       "4          1       2    0.204632"
      ]
     },
     "execution_count": 31,
     "metadata": {},
     "output_type": "execute_result"
    }
   ],
   "source": [
    "q = \"\"\"\n",
    "\n",
    "SELECT exp_group, bucket,\n",
    "    sum(likes)/sum(views) as bucket_ctr\n",
    "FROM (SELECT exp_group, \n",
    "        xxHash64(user_id)%50 as bucket,\n",
    "        user_id,\n",
    "        sum(action = 'like') as likes,\n",
    "        sum(action = 'view') as views,\n",
    "        likes/views as ctr\n",
    "    FROM {db}.feed_actions \n",
    "    WHERE toDate(time) between '2024-09-27' and '2024-10-03'\n",
    "        and exp_group in (1,2)\n",
    "    GROUP BY exp_group, bucket, user_id)\n",
    "GROUP BY exp_group, bucket\n",
    "\"\"\"\n",
    "\n",
    "df_b = ph.read_clickhouse(q, connection=connection)\n",
    "df_b.head()"
   ]
  },
  {
   "cell_type": "code",
   "execution_count": 32,
   "id": "e348651f-1a5b-4007-a373-e0adc4b0463e",
   "metadata": {},
   "outputs": [
    {
     "data": {
      "text/plain": [
       "Ttest_indResult(statistic=5.614819358149381, pvalue=4.592644937473873e-07)"
      ]
     },
     "execution_count": 32,
     "metadata": {},
     "output_type": "execute_result"
    }
   ],
   "source": [
    "stats.ttest_ind(df_b[df_b.exp_group == 1].bucket_ctr,\n",
    "                df_b[df_b.exp_group == 2].bucket_ctr,\n",
    "                equal_var=False)"
   ]
  },
  {
   "cell_type": "code",
   "execution_count": 33,
   "id": "ff11150b-39bf-4af3-97b6-f4e1c1e8bf69",
   "metadata": {},
   "outputs": [
    {
     "data": {
      "text/plain": [
       "exp_group\n",
       "1    0.209694\n",
       "2    0.200457\n",
       "Name: bucket_ctr, dtype: float64"
      ]
     },
     "execution_count": 33,
     "metadata": {},
     "output_type": "execute_result"
    }
   ],
   "source": [
    "df_b.groupby('exp_group')['bucket_ctr'].mean() "
   ]
  },
  {
   "cell_type": "markdown",
   "id": "446487e5-7064-4d99-a04b-66f67c764c84",
   "metadata": {},
   "source": [
    "T-тест поверх бакетного преобразования показал,что средние побакетные CTR в группах различаются. Т.е. средний побакетный CTR в контрольной группе выше, чем в тестовой."
   ]
  },
  {
   "cell_type": "markdown",
   "id": "93286bfc-5b5b-4ce5-98c7-482c128e7223",
   "metadata": {},
   "source": [
    "Моя рекомендация — не раскатывать новый алгоритм на всех пользователей сразу, так как он оказал в большинстве своем отрицательный эффект. Необходимо провести дальнейшие исследования, чтобы понять причину различий в распределениях и определить, стоит ли алгоритм применять, и для каких конкретных пользователей он может быть полезен."
   ]
  }
 ],
 "metadata": {
  "kernelspec": {
   "display_name": "Python 3 (ipykernel)",
   "language": "python",
   "name": "python3"
  },
  "language_info": {
   "codemirror_mode": {
    "name": "ipython",
    "version": 3
   },
   "file_extension": ".py",
   "mimetype": "text/x-python",
   "name": "python",
   "nbconvert_exporter": "python",
   "pygments_lexer": "ipython3",
   "version": "3.11.5"
  }
 },
 "nbformat": 4,
 "nbformat_minor": 5
}
